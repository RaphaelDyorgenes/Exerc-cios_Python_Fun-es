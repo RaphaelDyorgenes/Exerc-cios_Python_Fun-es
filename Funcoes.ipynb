{
  "nbformat": 4,
  "nbformat_minor": 0,
  "metadata": {
    "colab": {
      "provenance": []
    },
    "kernelspec": {
      "name": "python3",
      "display_name": "Python 3"
    },
    "language_info": {
      "name": "python"
    }
  },
  "cells": [
    {
      "cell_type": "code",
      "execution_count": null,
      "metadata": {
        "colab": {
          "base_uri": "https://localhost:8080/"
        },
        "id": "jA8tK51sY2SE",
        "outputId": "69ae92c0-b926-410d-cb2a-4ae3d8dafb34"
      },
      "outputs": [
        {
          "output_type": "stream",
          "name": "stdout",
          "text": [
            "Taboada do 5\n",
            "------------\n",
            "0 x 5 = 0\n",
            "1 x 5 = 5\n",
            "2 x 5 = 10\n",
            "3 x 5 = 15\n",
            "4 x 5 = 20\n",
            "5 x 5 = 25\n",
            "6 x 5 = 30\n",
            "7 x 5 = 35\n",
            "8 x 5 = 40\n",
            "9 x 5 = 45\n",
            "10 x 5 = 50\n"
          ]
        }
      ],
      "source": [
        "#1\n",
        "\n",
        "def taboada(n):\n",
        "  print(f\"Taboada do {n}\")\n",
        "  print(\"-\"*12)\n",
        "  for i in range(11):\n",
        "    print(f\"{i} x {n} = {i*n}\")\n",
        "\n",
        "taboada(5)"
      ]
    },
    {
      "cell_type": "code",
      "source": [
        "#2\n",
        "\n",
        "def imprime(n):\n",
        "  for i in range(n):\n",
        "    print((str(i+1)+\" \")*(i+1))\n",
        "\n",
        "imprime(5)"
      ],
      "metadata": {
        "colab": {
          "base_uri": "https://localhost:8080/"
        },
        "id": "0Y4CfmlHae8U",
        "outputId": "26ae8722-4e1a-4dcc-f8c7-fbe9f267dba2"
      },
      "execution_count": null,
      "outputs": [
        {
          "output_type": "stream",
          "name": "stdout",
          "text": [
            "1 \n",
            "2 2 \n",
            "3 3 3 \n",
            "4 4 4 4 \n",
            "5 5 5 5 5 \n"
          ]
        }
      ]
    },
    {
      "cell_type": "code",
      "source": [
        "#3\n",
        "\n",
        "def imprime2(n):\n",
        "  lista = \"\"\n",
        "  for i in range (n):\n",
        "    lista += str(i+1) + \" \"\n",
        "    print(lista)\n",
        "\n",
        "imprime2(5)"
      ],
      "metadata": {
        "colab": {
          "base_uri": "https://localhost:8080/"
        },
        "id": "BvISCEhYcaI1",
        "outputId": "b0859494-bbdf-4f17-deb2-72ee1bcacb5e"
      },
      "execution_count": null,
      "outputs": [
        {
          "output_type": "stream",
          "name": "stdout",
          "text": [
            "1 \n",
            "1 2 \n",
            "1 2 3 \n",
            "1 2 3 4 \n",
            "1 2 3 4 5 \n"
          ]
        }
      ]
    },
    {
      "cell_type": "code",
      "source": [
        "#4\n",
        "\n",
        "def minutos(segundos):\n",
        "  hora = 0\n",
        "  minuto = 0\n",
        "  while segundos >= 60:\n",
        "    minuto += 1\n",
        "    segundos -= 60\n",
        "  while minuto >= 60:\n",
        "    hora += 1\n",
        "    minuto -= 60\n",
        "  print(hora,minuto,segundos)\n",
        "\n",
        "minutos(4814)"
      ],
      "metadata": {
        "colab": {
          "base_uri": "https://localhost:8080/"
        },
        "id": "QYTSXgCYfAK4",
        "outputId": "a74cef2e-30bb-4d8d-d961-dec44483b1e1"
      },
      "execution_count": null,
      "outputs": [
        {
          "output_type": "stream",
          "name": "stdout",
          "text": [
            "1 20 14\n"
          ]
        }
      ]
    },
    {
      "cell_type": "code",
      "source": [
        "#5\n",
        "\n",
        "def natural(n):\n",
        "  return True if int(n) == n and n%2 == 1 and n > 0 or n == 2 else False\n",
        "\n",
        "print(natural(2))\n"
      ],
      "metadata": {
        "colab": {
          "base_uri": "https://localhost:8080/"
        },
        "id": "5q_KD1i3MGug",
        "outputId": "4cacd76b-083a-4398-e7a8-47c937babd91"
      },
      "execution_count": null,
      "outputs": [
        {
          "output_type": "stream",
          "name": "stdout",
          "text": [
            "True\n"
          ]
        }
      ]
    },
    {
      "cell_type": "code",
      "source": [
        "#6\n",
        "\n",
        "def cont(n):\n",
        "  return len(str(n)) if n > 0 and int(n) == n else \"ND\"\n",
        "\n",
        "cont(4)"
      ],
      "metadata": {
        "colab": {
          "base_uri": "https://localhost:8080/"
        },
        "id": "YHqlAurHT3UY",
        "outputId": "fa124587-737d-4502-aff7-fb79982a5862"
      },
      "execution_count": null,
      "outputs": [
        {
          "output_type": "execute_result",
          "data": {
            "text/plain": [
              "1"
            ]
          },
          "metadata": {},
          "execution_count": 64
        }
      ]
    },
    {
      "cell_type": "code",
      "source": [
        "#7\n",
        "lista = ['1', '1', '2', '1']\n",
        "\n",
        "def todos_iguais(n):\n",
        "  return True if len(set(n)) == 1 else False\n",
        "\n",
        "todos_iguais(lista)"
      ],
      "metadata": {
        "colab": {
          "base_uri": "https://localhost:8080/"
        },
        "id": "FTrw6Rf0WDk6",
        "outputId": "d19928cb-1ae8-4ce4-93f9-142399582ac2"
      },
      "execution_count": null,
      "outputs": [
        {
          "output_type": "execute_result",
          "data": {
            "text/plain": [
              "False"
            ]
          },
          "metadata": {},
          "execution_count": 74
        }
      ]
    },
    {
      "cell_type": "code",
      "source": [
        "#8\n",
        "lista = ['1', '3', '4', '5']\n",
        "\n",
        "def todos_iguais2(n):\n",
        "  return len(set(n)) == len(n)\n",
        "\n",
        "todos_iguais2(lista)"
      ],
      "metadata": {
        "colab": {
          "base_uri": "https://localhost:8080/"
        },
        "id": "asCo-W-nbxAO",
        "outputId": "98a580ce-8abc-47e8-bf45-baa500289aaa"
      },
      "execution_count": null,
      "outputs": [
        {
          "output_type": "execute_result",
          "data": {
            "text/plain": [
              "True"
            ]
          },
          "metadata": {},
          "execution_count": 79
        }
      ]
    },
    {
      "cell_type": "code",
      "source": [
        "#9\n",
        "lista = ['1', '3', '4', '5']\n",
        "n = \"7\"\n",
        "def indice_elemento(n,lista):\n",
        "  return lista.index(n) if n in lista else (-1)\n",
        "\n",
        "indice_elemento(n,lista)"
      ],
      "metadata": {
        "colab": {
          "base_uri": "https://localhost:8080/"
        },
        "id": "nfzx8tyrdqy1",
        "outputId": "1e9b195d-8c76-4092-b0e4-8e84f12c55c4"
      },
      "execution_count": null,
      "outputs": [
        {
          "output_type": "execute_result",
          "data": {
            "text/plain": [
              "-1"
            ]
          },
          "metadata": {},
          "execution_count": 86
        }
      ]
    },
    {
      "cell_type": "code",
      "source": [
        "#10\n",
        "\n",
        "def potencia(n):\n",
        "  i,x = 0,0\n",
        "  while x < n:\n",
        "    x = 2**i\n",
        "    i += 1\n",
        "  return x\n",
        "potencia(14)"
      ],
      "metadata": {
        "colab": {
          "base_uri": "https://localhost:8080/"
        },
        "id": "ED2q7SCcrdqi",
        "outputId": "69e7cffb-6ba5-4158-9ff0-8d4e8672cfc7"
      },
      "execution_count": null,
      "outputs": [
        {
          "output_type": "execute_result",
          "data": {
            "text/plain": [
              "16"
            ]
          },
          "metadata": {},
          "execution_count": 97
        }
      ]
    },
    {
      "cell_type": "code",
      "source": [
        "#12\n",
        "lista = ['1', '3', '4', '5']\n",
        "n = -1\n",
        "\n",
        "def maior(n,lista):\n",
        "  lista.sort()\n",
        "  return lista[n]\n",
        "\n",
        "maior(n,lista)"
      ],
      "metadata": {
        "colab": {
          "base_uri": "https://localhost:8080/",
          "height": 36
        },
        "id": "KMlqsj7ksdJX",
        "outputId": "e2027a5c-dbff-45aa-8bd2-ca0b2e4aa47c"
      },
      "execution_count": null,
      "outputs": [
        {
          "output_type": "execute_result",
          "data": {
            "text/plain": [
              "'5'"
            ],
            "application/vnd.google.colaboratory.intrinsic+json": {
              "type": "string"
            }
          },
          "metadata": {},
          "execution_count": 101
        }
      ]
    },
    {
      "cell_type": "code",
      "source": [
        "#13\n",
        "m = 7\n",
        "n = 2\n",
        "\n",
        "def div(m,n):\n",
        "  return m"
      ],
      "metadata": {
        "id": "AwSf-OVWzNoM"
      },
      "execution_count": null,
      "outputs": []
    }
  ]
}