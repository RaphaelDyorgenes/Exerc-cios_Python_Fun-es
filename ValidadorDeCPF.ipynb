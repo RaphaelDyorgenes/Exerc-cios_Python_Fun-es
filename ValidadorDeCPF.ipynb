{
  "nbformat": 4,
  "nbformat_minor": 0,
  "metadata": {
    "colab": {
      "provenance": []
    },
    "kernelspec": {
      "name": "python3",
      "display_name": "Python 3"
    },
    "language_info": {
      "name": "python"
    }
  },
  "cells": [
    {
      "cell_type": "code",
      "source": [
        "def validar_dig_ver_1(digitos):\n",
        "    soma_prod = 0\n",
        "    for n in range(9):\n",
        "      soma_prod += (digitos[n]*(10-n))\n",
        "    d1 = ((soma_prod*10) % 11)\n",
        "    return d1 == digitos[-2]\n",
        "\n",
        "\n",
        "def validar_dig_ver_2(digitos):\n",
        "    soma_prod = 0\n",
        "    for n in range(10):\n",
        "      soma_prod += (digitos[n]*(11-n))\n",
        "    d2 = ((soma_prod*10) % 11)\n",
        "    return d2 == digitos[-1]\n",
        "\n",
        "def validar_cpf(cpf):\n",
        "    cpfn = [int(d) for d in cpf]\n",
        "    if len(set(cpf)) == 1:\n",
        "      return False\n",
        "\n",
        "    v1 = validar_dig_ver_1(cpfn)\n",
        "    if v1 == False:\n",
        "      return False\n",
        "\n",
        "    v2 = validar_dig_ver_2(cpfn)\n",
        "    if v2 == True:\n",
        "      return True\n",
        "    else:\n",
        "      return False\n",
        "\n",
        "def main():\n",
        "    cpf = input(\"Digite o CPF: \")\n",
        "    if validar_cpf(cpf):\n",
        "        print(\"CPF válido!\")\n",
        "    else:\n",
        "        print(\"CPF inválido!\")\n",
        "\n",
        "main()"
      ],
      "metadata": {
        "colab": {
          "base_uri": "https://localhost:8080/"
        },
        "id": "jrxh9eoSjuB3",
        "outputId": "50cc08be-831f-4903-e2ec-df98af75bd0b"
      },
      "execution_count": null,
      "outputs": [
        {
          "output_type": "stream",
          "name": "stdout",
          "text": [
            "Digite o CPF: 95559167053\n",
            "CPF válido!\n"
          ]
        }
      ]
    },
    {
      "cell_type": "code",
      "source": [],
      "metadata": {
        "id": "NDIu4f8Y7tM8"
      },
      "execution_count": null,
      "outputs": []
    },
    {
      "cell_type": "code",
      "source": [
        "def validar_dig_ver_1(digitos):\n",
        "    soma_prod = 0\n",
        "    for n in range(9):\n",
        "      soma_prod += (digitos[n]*(10-n))\n",
        "    d1 = ((soma_prod*10) % 11)\n",
        "    return d1\n",
        "\n",
        "\n",
        "def validar_dig_ver_2(digitos):\n",
        "    soma_prod = 0\n",
        "    for n in range(10):\n",
        "      soma_prod += (digitos[n]*(11-n))\n",
        "    d2 = ((soma_prod*10) % 11)\n",
        "    return d2\n",
        "\n",
        "def validar_cpf(cpf):\n",
        "    resultado = \"\"\n",
        "    cpfn = [int(d) for d in cpf]\n",
        "    if len(set(cpf)) == 1:\n",
        "      return False\n",
        "\n",
        "    cpfn.append(validar_dig_ver_1(cpfn))\n",
        "    cpfn.append(validar_dig_ver_2(cpfn))\n",
        "\n",
        "    for i in cpfn:\n",
        "      resultado += str(i)\n",
        "    return resultado\n",
        "\n",
        "def main():\n",
        "    cpf = input(\"Digite o CPF: \")\n",
        "    print(validar_cpf(cpf))\n",
        "\n",
        "\n",
        "main()"
      ],
      "metadata": {
        "colab": {
          "base_uri": "https://localhost:8080/"
        },
        "id": "cLG6AmEFuurU",
        "outputId": "5668124d-fa69-496b-8102-5bac55989709"
      },
      "execution_count": null,
      "outputs": [
        {
          "output_type": "stream",
          "name": "stdout",
          "text": [
            "Digite o CPF: 955591670\n",
            "95559167053\n"
          ]
        }
      ]
    }
  ]
}