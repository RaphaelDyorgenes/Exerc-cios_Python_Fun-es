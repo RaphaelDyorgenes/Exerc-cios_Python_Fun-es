{
  "nbformat": 4,
  "nbformat_minor": 0,
  "metadata": {
    "colab": {
      "provenance": []
    },
    "kernelspec": {
      "name": "python3",
      "display_name": "Python 3"
    },
    "language_info": {
      "name": "python"
    }
  },
  "cells": [
    {
      "cell_type": "code",
      "execution_count": null,
      "metadata": {
        "id": "8H1KkAtr7v59"
      },
      "outputs": [],
      "source": [
        "def potencia(a,b):\n",
        "  if b == 0\n",
        "    return 1\n",
        "  return a* potencia(a,b-1)\n",
        "\n",
        "print()"
      ]
    },
    {
      "cell_type": "code",
      "source": [
        "#funcao cursiva potencia(a,b)\n",
        "#potencia(a,b) = a* potencia(a, b-1)\n",
        "#caso base: potencia(a, 0)=1\n",
        "\n",
        "def potencia(a,b):\n",
        "  if b == 0:\n",
        "    return 1\n",
        "  return a * potencia(a,b-1)\n",
        "potencia(5,3)"
      ],
      "metadata": {
        "id": "LPSbh0S69OWb",
        "outputId": "e086e6bc-5a74-4612-8c77-4f4a67d48e08",
        "colab": {
          "base_uri": "https://localhost:8080/"
        }
      },
      "execution_count": null,
      "outputs": [
        {
          "output_type": "execute_result",
          "data": {
            "text/plain": [
              "125"
            ]
          },
          "metadata": {},
          "execution_count": 1
        }
      ]
    },
    {
      "cell_type": "code",
      "source": [
        "func1 = lambda c: c*1.8+32\n",
        "\n",
        "print(func1(100))"
      ],
      "metadata": {
        "colab": {
          "base_uri": "https://localhost:8080/"
        },
        "id": "y649TKqHK-83",
        "outputId": "41f84018-b0a0-4210-f980-58246b4a69ab"
      },
      "execution_count": null,
      "outputs": [
        {
          "output_type": "stream",
          "name": "stdout",
          "text": [
            "212.0\n"
          ]
        }
      ]
    },
    {
      "cell_type": "code",
      "source": [
        "max = lambda a,b: a if a>b else b\n",
        "\n",
        "print(max(1,2))"
      ],
      "metadata": {
        "colab": {
          "base_uri": "https://localhost:8080/"
        },
        "id": "dVrRNQ1BMNpc",
        "outputId": "636944ed-575a-466b-ce6d-2abe51d7a19d"
      },
      "execution_count": null,
      "outputs": [
        {
          "output_type": "stream",
          "name": "stdout",
          "text": [
            "2\n"
          ]
        }
      ]
    },
    {
      "cell_type": "code",
      "source": [
        "def raiz(n):\n",
        "  '''\n",
        "  Calcula a raiz quadrada de N\n",
        "  Usando o algoritimo:\n",
        "  x_(n+1) = 1/2 * (x + N/x)\n",
        "  '''.\n",
        "  x = 1\n",
        "  for n in range(100):\n",
        "    x = 1/2*(x + N/x)\n",
        "  return x"
      ],
      "metadata": {
        "id": "-DKF1_ZzP8wf"
      },
      "execution_count": null,
      "outputs": []
    },
    {
      "cell_type": "code",
      "source": [
        "def pitagoras(a,b):\n",
        "  \"\"\"\n",
        "\n",
        "  \"\"\"\n",
        "  return raiz(a**2 + b**2)"
      ],
      "metadata": {
        "id": "2DOZOmEa2rIE"
      },
      "execution_count": null,
      "outputs": []
    },
    {
      "cell_type": "code",
      "source": [
        "pitagoras(3,4)"
      ],
      "metadata": {
        "id": "qCdChJ8b5GBA"
      },
      "execution_count": null,
      "outputs": []
    },
    {
      "cell_type": "code",
      "source": [
        "def eqgrau2(a,b,c):\n",
        "  \"\"\"\n",
        "  a * x**2+ b = x + c =\n",
        "  \"\"\"\n",
        "  delta = (b**2 - 4 * a * c)\n",
        "  if delta <0:\n",
        "    print(\"erro\")\n",
        "    return None\n",
        "\n",
        "  rdelta = raiz(delta)\n",
        "  x1  = (-b - rdelta)/ (2*a)\n",
        "  x2  = (-b + rdelta)/ (2*a)\n",
        "  return x1, x2"
      ],
      "metadata": {
        "id": "bbQro6g66-8R"
      },
      "execution_count": null,
      "outputs": []
    },
    {
      "cell_type": "code",
      "source": [
        "def somar(n):\n",
        "  if n == 1:\n",
        "    return 1\n",
        "\n",
        "  return n + somar(n-1)"
      ],
      "metadata": {
        "id": "hCkbNwCO9-pl"
      },
      "execution_count": null,
      "outputs": []
    },
    {
      "cell_type": "code",
      "source": [
        "somar(100)"
      ],
      "metadata": {
        "colab": {
          "base_uri": "https://localhost:8080/"
        },
        "id": "7iXRZMfEAyzg",
        "outputId": "0279f512-0e50-489d-805d-fd2e85cd16b7"
      },
      "execution_count": null,
      "outputs": [
        {
          "output_type": "execute_result",
          "data": {
            "text/plain": [
              "5050"
            ]
          },
          "metadata": {},
          "execution_count": 9
        }
      ]
    },
    {
      "cell_type": "code",
      "source": [
        "def fibonacci(n):\n",
        "  if n <= 2:\n",
        "    return n\n",
        "  return fibonacci(n-1)+fibonacci(n-2)\n",
        "\n",
        "[fibonacci(n) for n in range(1,8)]"
      ],
      "metadata": {
        "id": "dTgUoUTsDCQc"
      },
      "execution_count": null,
      "outputs": []
    },
    {
      "cell_type": "code",
      "source": [
        "def estima_pi(n):\n",
        "  n = 1\n",
        "  den = list(range(1,n*2,2))\n",
        "  n *= -1"
      ],
      "metadata": {
        "id": "qKLMLy7AGoTG"
      },
      "execution_count": null,
      "outputs": []
    },
    {
      "cell_type": "code",
      "source": [
        "n = 6\n",
        "\n",
        "[2*x1 for x in range(n)]"
      ],
      "metadata": {
        "colab": {
          "base_uri": "https://localhost:8080/"
        },
        "id": "84IlMMbdHyM4",
        "outputId": "4c986079-3b29-4147-a986-759f72ba00ec"
      },
      "execution_count": null,
      "outputs": [
        {
          "output_type": "execute_result",
          "data": {
            "text/plain": [
              "[1, 3, 5, 7, 9, 11]"
            ]
          },
          "metadata": {},
          "execution_count": 11
        }
      ]
    },
    {
      "cell_type": "code",
      "source": [
        "[(-1)**x for x in range(n)]"
      ],
      "metadata": {
        "colab": {
          "base_uri": "https://localhost:8080/"
        },
        "id": "F4A90uF-VDvX",
        "outputId": "8e89ae15-2e18-4d5a-91ad-3010c808621a"
      },
      "execution_count": null,
      "outputs": [
        {
          "output_type": "execute_result",
          "data": {
            "text/plain": [
              "[1, -1, 1, -1, 1, -1]"
            ]
          },
          "metadata": {},
          "execution_count": 12
        }
      ]
    },
    {
      "cell_type": "code",
      "source": [
        "n = 10000\n",
        "4*sum([1/((2*x+1)*(-1)**x) for x in range(n)])"
      ],
      "metadata": {
        "colab": {
          "base_uri": "https://localhost:8080/"
        },
        "id": "BPw_IMu0VpIV",
        "outputId": "2eb95ce7-c279-4807-9306-ae199c1726f2"
      },
      "execution_count": null,
      "outputs": [
        {
          "output_type": "execute_result",
          "data": {
            "text/plain": [
              "3.1414926535900345"
            ]
          },
          "metadata": {},
          "execution_count": 1
        }
      ]
    }
  ]
}