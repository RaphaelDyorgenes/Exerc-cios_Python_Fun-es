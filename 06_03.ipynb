{
 "cells": [
  {
   "cell_type": "code",
   "execution_count": 1,
   "id": "ba0fdf44-e6e8-4030-b17f-7c4872cc0031",
   "metadata": {},
   "outputs": [
    {
     "name": "stdin",
     "output_type": "stream",
     "text": [
      "Insira seu nome:  Raphael\n"
     ]
    },
    {
     "name": "stdout",
     "output_type": "stream",
     "text": [
      "Olá Raphael\n"
     ]
    }
   ],
   "source": [
    "1#\n",
    "\n",
    "def saudacao(nome):\n",
    "    print('Olá',nome)\n",
    "\n",
    "nome = input(\"Insira seu nome: \")\n",
    "\n",
    "saudacao(nome)"
   ]
  },
  {
   "cell_type": "code",
   "execution_count": 15,
   "id": "544d5b01-a86f-4dd9-a20d-ebcc36817d76",
   "metadata": {},
   "outputs": [
    {
     "name": "stdout",
     "output_type": "stream",
     "text": [
      "0 1 -2 3 -4 5 \n",
      "0 1 -2 3 -4 5 -6 7 -8 9 \n",
      "0 1 -2 3 -4 5 -6 7 -8 9 -10 11 -12 \n"
     ]
    }
   ],
   "source": [
    "def alterna(m):\n",
    "    n1 = -1\n",
    "    n2 = -1\n",
    "    vezes = m+1\n",
    "    for i in range(vezes):\n",
    "        numero = i*n1\n",
    "        n1 *= n2\n",
    "        print(numero, end=\" \")\n",
    "    print()\n",
    "\n",
    "#qtd = int(input(\"Insira um numero\"))\n",
    "alterna(5)\n",
    "alterna(9)\n",
    "alterna(12)"
   ]
  },
  {
   "cell_type": "code",
   "execution_count": 17,
   "id": "05a0c33b-d44f-4170-b63c-3297410e545d",
   "metadata": {},
   "outputs": [
    {
     "name": "stdin",
     "output_type": "stream",
     "text": [
      "Insira a altura do retângulo:  2\n",
      "Insira a largura do retângulo:  2\n"
     ]
    },
    {
     "data": {
      "text/plain": [
       "8.0"
      ]
     },
     "execution_count": 17,
     "metadata": {},
     "output_type": "execute_result"
    }
   ],
   "source": [
    "#Atividade 1\n",
    "\n",
    "def perimetro(altura,largura):\n",
    "    total = (altura + largura)*2\n",
    "    return total\n",
    "\n",
    "altura = float(input(\"Insira a altura do retângulo: \"))\n",
    "largura = float(input(\"Insira a largura do retângulo: \"))\n",
    "perimetro(altura,largura)"
   ]
  },
  {
   "cell_type": "code",
   "execution_count": 18,
   "id": "daf78e8c-b656-4fbe-922f-03b33deae855",
   "metadata": {},
   "outputs": [
    {
     "name": "stdout",
     "output_type": "stream",
     "text": [
      "Olá, João! como você está?\n",
      "Olá, Maria! Tudo bem\n"
     ]
    }
   ],
   "source": [
    "#Atividade 2\n",
    "\n",
    "def saudacao(nome, mensagem):\n",
    "    print(\"Olá,\", nome, \"\\b!\", mensagem)\n",
    "\n",
    "saudacao(\"João\", \"como você está?\")\n",
    "\n",
    "saudacao(mensagem=\"Tudo bem\", nome=\"Maria\")"
   ]
  },
  {
   "cell_type": "code",
   "execution_count": 20,
   "id": "ae40ccee-1ffe-4e94-92a6-bfc2c8da3ea0",
   "metadata": {},
   "outputs": [
    {
     "name": "stdout",
     "output_type": "stream",
     "text": [
      "Soma dos positivos = 5\n",
      "soma dos negativos = -5\n"
     ]
    }
   ],
   "source": [
    "#Atividade 4\n",
    "\n",
    "def soma_pn(valores):\n",
    "    soma_p = 0\n",
    "    soma_n = 0\n",
    "    for n in valores:\n",
    "        if n >= 0:\n",
    "            soma_p += n\n",
    "        else:\n",
    "            soma_n += n\n",
    "            \n",
    "    return soma_p, soma_n\n",
    "\n",
    "valores = [2,-1,3,-4]\n",
    "soma_p, soma_n = soma_pn(valores)\n",
    "print(f\"Soma dos positivos = {soma_p}\\nsoma dos negativos = {soma_n}\")\n",
    "\n",
    "    "
   ]
  },
  {
   "cell_type": "code",
   "execution_count": 31,
   "id": "da84b67d-8c99-42b7-8825-a6fa7c5ec58a",
   "metadata": {},
   "outputs": [
    {
     "name": "stdout",
     "output_type": "stream",
     "text": [
      "soma = 0\n",
      "soma2 = 30\n"
     ]
    }
   ],
   "source": [
    "#Atividade 5\n",
    "\n",
    "def somas(valores):\n",
    "    soma = sum(valores)\n",
    "    soma2 = 0\n",
    "    for i in valores:\n",
    "        soma2 += (i**2)\n",
    "        \n",
    "    return soma, soma2\n",
    "\n",
    "\n",
    "valores = [2, -1, 3, -4]\n",
    "soma, soma2 = somas(valores)\n",
    "print(f\"soma = {soma}\\nsoma2 = {soma2}\")"
   ]
  }
 ],
 "metadata": {
  "kernelspec": {
   "display_name": "Python 3 (ipykernel)",
   "language": "python",
   "name": "python3"
  },
  "language_info": {
   "codemirror_mode": {
    "name": "ipython",
    "version": 3
   },
   "file_extension": ".py",
   "mimetype": "text/x-python",
   "name": "python",
   "nbconvert_exporter": "python",
   "pygments_lexer": "ipython3",
   "version": "3.11.7"
  }
 },
 "nbformat": 4,
 "nbformat_minor": 5
}
